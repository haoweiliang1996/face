{
 "cells": [
  {
   "cell_type": "code",
   "execution_count": 274,
   "metadata": {},
   "outputs": [
    {
     "name": "stdout",
     "output_type": "stream",
     "text": [
      "30\n",
      "566\n",
      "56\n"
     ]
    }
   ],
   "source": [
    "import numpy as np\n",
    "from sklearn.neighbors import KNeighborsClassifier\n",
    "from sklearn.metrics.pairwise import euclidean_distances\n",
    "train = np.load('./dlib_feature.npy')\n",
    "print(len(train))\n",
    "train = np.hstack((train,np.load('./dlib_feature_train.npy')))\n",
    "train = list(filter(lambda s:len(s)>0,train))\n",
    "print(len(train))\n",
    "val = np.load('./dlib_feature_val.npy')\n",
    "val= list(filter(lambda s:len(s)>0,val))\n",
    "print(len(val))"
   ]
  },
  {
   "cell_type": "code",
   "execution_count": 275,
   "metadata": {
    "collapsed": true
   },
   "outputs": [],
   "source": [
    "clf = KNeighborsClassifier(10,'distance')"
   ]
  },
  {
   "cell_type": "code",
   "execution_count": 276,
   "metadata": {
    "collapsed": true
   },
   "outputs": [],
   "source": [
    "x_clf = []\n",
    "y_clf = []\n",
    "for i,ob in enumerate(train):\n",
    "    for j in ob[:2]:\n",
    "        x_clf.append(j)\n",
    "        y_clf.append(i)"
   ]
  },
  {
   "cell_type": "code",
   "execution_count": 277,
   "metadata": {},
   "outputs": [
    {
     "data": {
      "text/plain": [
       "KNeighborsClassifier(algorithm='auto', leaf_size=30, metric='minkowski',\n",
       "           metric_params=None, n_jobs=1, n_neighbors=10, p=2,\n",
       "           weights='distance')"
      ]
     },
     "execution_count": 277,
     "metadata": {},
     "output_type": "execute_result"
    }
   ],
   "source": [
    "clf.fit(x_clf,y_clf)"
   ]
  },
  {
   "cell_type": "code",
   "execution_count": 278,
   "metadata": {},
   "outputs": [
    {
     "data": {
      "text/plain": [
       "[0]"
      ]
     },
     "execution_count": 278,
     "metadata": {},
     "output_type": "execute_result"
    }
   ],
   "source": [
    "class my_cla(object):\n",
    "    def __init__(self,arr):\n",
    "        self.vectors = [np.mean(i,axis=0) for i in arr]\n",
    "    def predict(self,x_in):\n",
    "        return [np.array(list(map(lambda v:euclidean_distances(x_in.reshape(1,-1),v.reshape(1,-1)),self.vectors))).argmin()]\n",
    "    def predict_proba(self,x_in):\n",
    "        return np.array([np.array(list(map(lambda v:euclidean_distances(x_in.reshape(1,-1),v.reshape(1,-1)),self.vectors))).min()])\n",
    "my_clf = my_cla(train)\n",
    "my_clf.predict(x_clf[1])"
   ]
  },
  {
   "cell_type": "code",
   "execution_count": 279,
   "metadata": {
    "collapsed": true
   },
   "outputs": [],
   "source": [
    "from copy import deepcopy\n",
    "def index_swap(arr,arr_id):\n",
    "    print(len(arr) == len(arr_id))\n",
    "    temp = deepcopy(arr)\n",
    "    for i,ii in enumerate(arr_id):\n",
    "        temp[i] = arr[ii]\n",
    "    return temp"
   ]
  },
  {
   "cell_type": "code",
   "execution_count": 280,
   "metadata": {},
   "outputs": [
    {
     "name": "stdout",
     "output_type": "stream",
     "text": [
      "True\n",
      "True\n",
      "subject of train:47\n",
      "subject of test:565\n",
      "100 5699\n",
      "100 5699\n"
     ]
    }
   ],
   "source": [
    "x_log = []\n",
    "y_log = []\n",
    "x_log_train_log = []\n",
    "y_log_train_log = []\n",
    "x_log_test_log = []\n",
    "y_log_test_log = []\n",
    "for i,ob in enumerate(train):\n",
    "    for j in ob[2:]:\n",
    "        x_log.append(j)\n",
    "        y_log.append(i)\n",
    "\n",
    "        from random import shuffle\n",
    "arr_id = list(range(len(x_log)))\n",
    "shuffle(arr_id)\n",
    "x_log = index_swap(x_log,arr_id)\n",
    "y_log = index_swap(y_log,arr_id)\n",
    "\n",
    "x_log_other = []\n",
    "for i in val:\n",
    "    x_log_other += i\n",
    "shuffle(x_log_other)\n",
    "x_log_other = x_log_other\n",
    "\n",
    "len_x_log = len(x_log)\n",
    "len_x_log_other = len(x_log_other)\n",
    "len_train1 = 50#int(len_x_log/5*1) + 1\n",
    "len_train2 = 50#int(len_x_log_other/5*1) +1\n",
    "y_log_other = [-1]*len_x_log_other\n",
    "x_log_train_log += x_log[:len_train1]+x_log_other[:len_train2]\n",
    "y_log_train_log += y_log[:len_train1]+y_log_other[:len_train2]\n",
    "x_log_test_log += x_log[len_train1:]+x_log_other[len_train2:]\n",
    "y_log_test_log += y_log[len_train1:]+y_log_other[len_train2:]\n",
    "print('subject of train:{}'.format(len(set(y_log_train_log))))\n",
    "print('subject of test:{}'.format(len(set(y_log_test_log))))\n",
    "print(len(x_log_train_log),len(x_log_test_log))\n",
    "print(len(y_log_train_log),len(y_log_test_log))"
   ]
  },
  {
   "cell_type": "code",
   "execution_count": 281,
   "metadata": {},
   "outputs": [
    {
     "data": {
      "text/plain": [
       "0.96058178752107926"
      ]
     },
     "execution_count": 281,
     "metadata": {},
     "output_type": "execute_result"
    }
   ],
   "source": [
    "clf.score(x_log,y_log)"
   ]
  },
  {
   "cell_type": "code",
   "execution_count": 282,
   "metadata": {},
   "outputs": [
    {
     "data": {
      "text/plain": [
       "0.23764773681902662"
      ]
     },
     "execution_count": 282,
     "metadata": {},
     "output_type": "execute_result"
    }
   ],
   "source": [
    "clf.predict_proba(x_log[8].reshape(1,-1)).max()"
   ]
  },
  {
   "cell_type": "code",
   "execution_count": 283,
   "metadata": {
    "collapsed": true
   },
   "outputs": [],
   "source": [
    "x_logit = []\n",
    "y_logit = []\n",
    "for i in x_log_train_log:\n",
    "    x_logit.append([clf.predict_proba(i.reshape(1,-1)).max()])\n",
    "for i in y_log_train_log:\n",
    "    if i != -1:\n",
    "        y_logit.append(1)\n",
    "    else:\n",
    "        y_logit.append(0)\n",
    "x_logit = np.array(x_logit)\n",
    "y_logit = np.array(y_logit)"
   ]
  },
  {
   "cell_type": "code",
   "execution_count": 284,
   "metadata": {},
   "outputs": [
    {
     "name": "stdout",
     "output_type": "stream",
     "text": [
      "100\n",
      "100\n",
      "{'C': 1000000, 'class_weight': None, 'dual': False, 'fit_intercept': True, 'intercept_scaling': 1, 'max_iter': 1000, 'multi_class': 'ovr', 'n_jobs': 4, 'penalty': 'l2', 'random_state': None, 'solver': 'liblinear', 'tol': 0.0001, 'verbose': 0, 'warm_start': False}\n",
      "-0.226655180696\n",
      "[-20.06659975]\n"
     ]
    },
    {
     "data": {
      "text/plain": [
       "0.94999999999999996"
      ]
     },
     "execution_count": 284,
     "metadata": {},
     "output_type": "execute_result"
    }
   ],
   "source": [
    "from sklearn.linear_model import LogisticRegression\n",
    "logit = LogisticRegression(C=1000000,max_iter=1000,n_jobs=4)\n",
    "print(len(x_logit))\n",
    "print(len(y_logit))\n",
    "logit.fit(x_logit,y_logit)\n",
    "a = logit.predict(x_logit)\n",
    "print(logit.get_params(deep=True))\n",
    "print(1/(logit.coef_[0][0]/logit.intercept_[0]))\n",
    "print(logit.intercept_)\n",
    "from sklearn.metrics import accuracy_score\n",
    "accuracy_score(a,y_logit)"
   ]
  },
  {
   "cell_type": "code",
   "execution_count": 288,
   "metadata": {},
   "outputs": [
    {
     "name": "stdout",
     "output_type": "stream",
     "text": [
      "-1\n",
      "0.001450216002496926\n",
      "0.921214248114\n",
      "0.9\n"
     ]
    }
   ],
   "source": [
    "def predict_by_joint_model(x):\n",
    "    x = x.reshape(1,-1)\n",
    "    res = clf.predict(x)[0]\n",
    "    #res = my_clf.predict(x)[0]\n",
    "    #if logit.predict(clf.predict_proba(x).max()):\n",
    "    if clf.predict_proba(x).max() > 0.2127912:\n",
    "    #if logit.predict(my_clf.predict_proba(x).reshape(1,-1)):\n",
    "        return res\n",
    "    return -1\n",
    "from time import time\n",
    "t = time()\n",
    "print(predict_by_joint_model(x_log_test_log[0]))\n",
    "val_pred = list(map(predict_by_joint_model,x_log_test_log))\n",
    "print((time()-t)/len(val_pred))\n",
    "print(accuracy_score(val_pred,y_log_test_log))\n",
    "train_pred = list(map(predict_by_joint_model,x_log_train_log))\n",
    "print(accuracy_score(train_pred,y_log_train_log))"
   ]
  },
  {
   "cell_type": "code",
   "execution_count": 67,
   "metadata": {},
   "outputs": [
    {
     "name": "stdout",
     "output_type": "stream",
     "text": [
      "-0.2209305930239232\n"
     ]
    }
   ],
   "source": [
    "t =  106.45625451/-23.51944344\n",
    "print(1/t)"
   ]
  }
 ],
 "metadata": {
  "kernelspec": {
   "display_name": "Python 3",
   "language": "python",
   "name": "python3"
  },
  "language_info": {
   "codemirror_mode": {
    "name": "ipython",
    "version": 3
   },
   "file_extension": ".py",
   "mimetype": "text/x-python",
   "name": "python",
   "nbconvert_exporter": "python",
   "pygments_lexer": "ipython3",
   "version": "3.6.2"
  }
 },
 "nbformat": 4,
 "nbformat_minor": 2
}
